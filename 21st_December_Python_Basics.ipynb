{
 "cells": [
  {
   "cell_type": "code",
   "execution_count": 30,
   "id": "4ac9c70e",
   "metadata": {},
   "outputs": [],
   "source": [
    "# Question 1 : swaping number"
   ]
  },
  {
   "cell_type": "code",
   "execution_count": 31,
   "id": "e11b5cdf",
   "metadata": {},
   "outputs": [],
   "source": [
    "#let x and y be two variables which contain values\n",
    "x, y = 70, 65"
   ]
  },
  {
   "cell_type": "code",
   "execution_count": 32,
   "id": "2f902f87",
   "metadata": {},
   "outputs": [],
   "source": [
    "# Swap values without using a temporary variable\n",
    "x = x + y\n",
    "y = x - y\n",
    "x = x - y"
   ]
  },
  {
   "cell_type": "code",
   "execution_count": 33,
   "id": "7942498d",
   "metadata": {},
   "outputs": [
    {
     "data": {
      "text/plain": [
       "65"
      ]
     },
     "execution_count": 33,
     "metadata": {},
     "output_type": "execute_result"
    }
   ],
   "source": [
    "x"
   ]
  },
  {
   "cell_type": "code",
   "execution_count": 34,
   "id": "869f73a0",
   "metadata": {},
   "outputs": [
    {
     "data": {
      "text/plain": [
       "70"
      ]
     },
     "execution_count": 34,
     "metadata": {},
     "output_type": "execute_result"
    }
   ],
   "source": [
    "y"
   ]
  },
  {
   "cell_type": "code",
   "execution_count": 35,
   "id": "3de6d2de",
   "metadata": {},
   "outputs": [],
   "source": [
    "# Question 2"
   ]
  },
  {
   "cell_type": "code",
   "execution_count": 36,
   "id": "9f1aab7d",
   "metadata": {},
   "outputs": [
    {
     "name": "stdout",
     "output_type": "stream",
     "text": [
      "34\n",
      "4\n"
     ]
    }
   ],
   "source": [
    "# Take user input for length and width\n",
    "length = float(input())\n",
    "width = float(input())"
   ]
  },
  {
   "cell_type": "code",
   "execution_count": 37,
   "id": "a0c47b1d",
   "metadata": {},
   "outputs": [],
   "source": [
    "# Calculate the area of the rectangle\n",
    "area = length * width"
   ]
  },
  {
   "cell_type": "code",
   "execution_count": 38,
   "id": "42601bf6",
   "metadata": {},
   "outputs": [
    {
     "data": {
      "text/plain": [
       "136.0"
      ]
     },
     "execution_count": 38,
     "metadata": {},
     "output_type": "execute_result"
    }
   ],
   "source": [
    "area"
   ]
  },
  {
   "cell_type": "code",
   "execution_count": 39,
   "id": "a0ec804b",
   "metadata": {},
   "outputs": [],
   "source": [
    "# Question 3"
   ]
  },
  {
   "cell_type": "code",
   "execution_count": 40,
   "id": "597329fc",
   "metadata": {},
   "outputs": [
    {
     "name": "stdout",
     "output_type": "stream",
     "text": [
      "35\n"
     ]
    }
   ],
   "source": [
    "# Taking user input for temperature in Celsius\n",
    "celsius = float(input())"
   ]
  },
  {
   "cell_type": "code",
   "execution_count": 41,
   "id": "0efb32e1",
   "metadata": {},
   "outputs": [],
   "source": [
    "# Converting Celsius to Fahrenheit using the formula: (Celsius * 9/5) + 32\n",
    "fahrenheit = (celsius * 9/5) + 32"
   ]
  },
  {
   "cell_type": "code",
   "execution_count": 42,
   "id": "590bf4ae",
   "metadata": {},
   "outputs": [
    {
     "data": {
      "text/plain": [
       "95.0"
      ]
     },
     "execution_count": 42,
     "metadata": {},
     "output_type": "execute_result"
    }
   ],
   "source": [
    "fahrenheit"
   ]
  },
  {
   "cell_type": "code",
   "execution_count": 43,
   "id": "fdb8c4ab",
   "metadata": {},
   "outputs": [],
   "source": [
    "# Topic Strings\n",
    "# Question 1"
   ]
  },
  {
   "cell_type": "code",
   "execution_count": 44,
   "id": "43e5add6",
   "metadata": {},
   "outputs": [
    {
     "name": "stdout",
     "output_type": "stream",
     "text": [
      "pwskills\n"
     ]
    }
   ],
   "source": [
    "# Take user input for a string\n",
    "user_input = input()"
   ]
  },
  {
   "cell_type": "code",
   "execution_count": 45,
   "id": "34000b34",
   "metadata": {},
   "outputs": [],
   "source": [
    "# Calculating and display the length of the string\n",
    "length_of_string = len(user_input)"
   ]
  },
  {
   "cell_type": "code",
   "execution_count": 46,
   "id": "10b25ab3",
   "metadata": {},
   "outputs": [
    {
     "data": {
      "text/plain": [
       "8"
      ]
     },
     "execution_count": 46,
     "metadata": {},
     "output_type": "execute_result"
    }
   ],
   "source": [
    "length_of_string"
   ]
  },
  {
   "cell_type": "code",
   "execution_count": 47,
   "id": "8ff4bf52",
   "metadata": {},
   "outputs": [
    {
     "name": "stdout",
     "output_type": "stream",
     "text": [
      "Enter a sentence: Hello everyone my name is Adarsh\n"
     ]
    }
   ],
   "source": [
    "# Taking user input for a sentence\n",
    "sentence = input(\"Enter a sentence: \")"
   ]
  },
  {
   "cell_type": "code",
   "execution_count": 48,
   "id": "3628ef30",
   "metadata": {},
   "outputs": [],
   "source": [
    "# Initializing a variable to count the number of vowels\n",
    "vowel_count = 0"
   ]
  },
  {
   "cell_type": "code",
   "execution_count": 49,
   "id": "3fbaca63",
   "metadata": {},
   "outputs": [],
   "source": [
    "# Iterating through each character in the sentence\n",
    "for char in sentence:\n",
    "    # Check if the character is a vowel (case-insensitive)\n",
    "    if char.lower() in \"aeiou\":\n",
    "        vowel_count += 1"
   ]
  },
  {
   "cell_type": "code",
   "execution_count": 50,
   "id": "1f7ca7fc",
   "metadata": {},
   "outputs": [
    {
     "data": {
      "text/plain": [
       "11"
      ]
     },
     "execution_count": 50,
     "metadata": {},
     "output_type": "execute_result"
    }
   ],
   "source": [
    "vowel_count"
   ]
  },
  {
   "cell_type": "code",
   "execution_count": 51,
   "id": "3433a6a4",
   "metadata": {},
   "outputs": [],
   "source": [
    "#Question 3:"
   ]
  },
  {
   "cell_type": "code",
   "execution_count": 52,
   "id": "41c03c76",
   "metadata": {},
   "outputs": [
    {
     "name": "stdout",
     "output_type": "stream",
     "text": [
      "hello world\n"
     ]
    }
   ],
   "source": [
    "# taking input from the user\n",
    "str = input()"
   ]
  },
  {
   "cell_type": "code",
   "execution_count": 53,
   "id": "88b1f57e",
   "metadata": {},
   "outputs": [
    {
     "data": {
      "text/plain": [
       "'dlrow olleh'"
      ]
     },
     "execution_count": 53,
     "metadata": {},
     "output_type": "execute_result"
    }
   ],
   "source": [
    "# this will print in reverse\n",
    "str[::-1]"
   ]
  },
  {
   "cell_type": "code",
   "execution_count": 54,
   "id": "06077a84",
   "metadata": {},
   "outputs": [],
   "source": [
    "# Question 5:"
   ]
  },
  {
   "cell_type": "code",
   "execution_count": 55,
   "id": "a638cb9a",
   "metadata": {},
   "outputs": [
    {
     "name": "stdout",
     "output_type": "stream",
     "text": [
      "Enter a string: I love data science\n"
     ]
    }
   ],
   "source": [
    "# Take user input for a string\n",
    "input_string = input(\"Enter a string: \")"
   ]
  },
  {
   "cell_type": "code",
   "execution_count": 56,
   "id": "d1ce262f",
   "metadata": {},
   "outputs": [],
   "source": [
    "# Remove spaces from the string using the replace method\n",
    "new_string = input_string.replace(\" \", \"\")"
   ]
  },
  {
   "cell_type": "code",
   "execution_count": 57,
   "id": "5a239268",
   "metadata": {},
   "outputs": [
    {
     "data": {
      "text/plain": [
       "'Ilovedatascience'"
      ]
     },
     "execution_count": 57,
     "metadata": {},
     "output_type": "execute_result"
    }
   ],
   "source": [
    "new_string"
   ]
  },
  {
   "cell_type": "code",
   "execution_count": null,
   "id": "7b696373",
   "metadata": {},
   "outputs": [],
   "source": []
  }
 ],
 "metadata": {
  "kernelspec": {
   "display_name": "Python 3 (ipykernel)",
   "language": "python",
   "name": "python3"
  },
  "language_info": {
   "codemirror_mode": {
    "name": "ipython",
    "version": 3
   },
   "file_extension": ".py",
   "mimetype": "text/x-python",
   "name": "python",
   "nbconvert_exporter": "python",
   "pygments_lexer": "ipython3",
   "version": "3.10.7"
  }
 },
 "nbformat": 4,
 "nbformat_minor": 5
}
