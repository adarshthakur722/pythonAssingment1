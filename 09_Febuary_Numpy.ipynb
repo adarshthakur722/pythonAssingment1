{
 "cells": [
  {
   "cell_type": "code",
   "execution_count": 5,
   "id": "c2064ebd-7a2d-4c7f-8843-be41a1cc94bd",
   "metadata": {},
   "outputs": [],
   "source": [
    "# Question 1\n",
    "# Ans) NumPy is a library for the Python programming language,\n",
    "# adding support for large, multi-dimensional arrays and matrices, along with a large collection\n",
    "# of high-level mathematical functions to operate on these arrays."
   ]
  },
  {
   "cell_type": "code",
   "execution_count": 6,
   "id": "a728651a-14b8-4ad5-89e2-44e2f87dcf4a",
   "metadata": {},
   "outputs": [],
   "source": [
    "# Question 2\n",
    "# NumPy arrays are much faster and have strict requirements on the homogeneity of the objects. For example,\n",
    "# a NumPy array of strings can only contain strings and no other data types,\n",
    "# but a Python list can contain a mixture of strings, numbers, booleans and other objects."
   ]
  },
  {
   "cell_type": "code",
   "execution_count": 12,
   "id": "2f4e1329-a83b-4155-8536-3f6179830bb5",
   "metadata": {},
   "outputs": [],
   "source": [
    "import numpy as np"
   ]
  },
  {
   "cell_type": "code",
   "execution_count": 13,
   "id": "c02a792f-bfb1-4a5b-ad84-fb107ec767a4",
   "metadata": {},
   "outputs": [],
   "source": [
    "#Question 3 \n",
    "arr = np.array([[1, 2, 3, 4],[5, 6, 7, 8],[9, 10, 11, 12]])"
   ]
  },
  {
   "cell_type": "code",
   "execution_count": 14,
   "id": "44d25c5a-e749-4c4c-96b9-691367090a2f",
   "metadata": {},
   "outputs": [
    {
     "data": {
      "text/plain": [
       "(3, 4)"
      ]
     },
     "execution_count": 14,
     "metadata": {},
     "output_type": "execute_result"
    }
   ],
   "source": [
    "# shape of array\n",
    "arr.shape"
   ]
  },
  {
   "cell_type": "code",
   "execution_count": 15,
   "id": "4d6f98af-3b45-4001-b3af-ed545b1b0e2d",
   "metadata": {},
   "outputs": [
    {
     "data": {
      "text/plain": [
       "2"
      ]
     },
     "execution_count": 15,
     "metadata": {},
     "output_type": "execute_result"
    }
   ],
   "source": [
    "# dimension of array\n",
    "arr.ndim"
   ]
  },
  {
   "cell_type": "code",
   "execution_count": 17,
   "id": "188411c9-54b0-4e6a-adb0-f9858c9bed4f",
   "metadata": {},
   "outputs": [],
   "source": [
    "# Question 4\n",
    "arr = np.array([[1, 2, 3, 4],[5, 6, 7, 8],[9, 10, 11, 12]])"
   ]
  },
  {
   "cell_type": "code",
   "execution_count": 18,
   "id": "c35ed2f2-1125-4cb6-aa2a-b499badc3ed3",
   "metadata": {},
   "outputs": [
    {
     "data": {
      "text/plain": [
       "array([1, 2, 3, 4])"
      ]
     },
     "execution_count": 18,
     "metadata": {},
     "output_type": "execute_result"
    }
   ],
   "source": [
    "# accessing the first row of the array\n",
    "arr[0]"
   ]
  },
  {
   "cell_type": "code",
   "execution_count": 19,
   "id": "c30e6ab2-559b-464b-bf00-662e21eba8c6",
   "metadata": {},
   "outputs": [
    {
     "data": {
      "text/plain": [
       "12"
      ]
     },
     "execution_count": 19,
     "metadata": {},
     "output_type": "execute_result"
    }
   ],
   "source": [
    "# Question 5\n",
    "# accessing the third row and fourth column\n",
    "arr[2,3] "
   ]
  },
  {
   "cell_type": "code",
   "execution_count": 27,
   "id": "ec6c4d04-7322-47b5-a927-fa6ef896fd29",
   "metadata": {},
   "outputs": [
    {
     "data": {
      "text/plain": [
       "array([[ 2,  4],\n",
       "       [ 6,  8],\n",
       "       [10, 12]])"
      ]
     },
     "execution_count": 27,
     "metadata": {},
     "output_type": "execute_result"
    }
   ],
   "source": [
    "# Question 6\n",
    "# accessing only the odd elements of the array\n",
    "arr[:, [1,3]]"
   ]
  },
  {
   "cell_type": "code",
   "execution_count": 28,
   "id": "3f551dd0-d48c-4b9b-8491-3149156c849f",
   "metadata": {},
   "outputs": [],
   "source": [
    "import random"
   ]
  },
  {
   "cell_type": "code",
   "execution_count": 39,
   "id": "f938f398-c1a6-4012-b1f3-d80b5eb66270",
   "metadata": {},
   "outputs": [
    {
     "data": {
      "text/plain": [
       "array([[0.35458802, 0.75821544, 0.49775006],\n",
       "       [0.12870791, 0.80183533, 0.30562782],\n",
       "       [0.25634196, 0.89090718, 0.20881239]])"
      ]
     },
     "execution_count": 39,
     "metadata": {},
     "output_type": "execute_result"
    }
   ],
   "source": [
    "# Question 7\n",
    "# creating random 3x3 array between 0,1\n",
    "arr = np.random.rand(3,3)\n",
    "arr"
   ]
  },
  {
   "cell_type": "code",
   "execution_count": 40,
   "id": "6ab2d421-ce41-4fc2-86e6-47e6a4370a99",
   "metadata": {},
   "outputs": [],
   "source": [
    "# Question 8\n",
    "# Answer) np.random.rand:\n",
    "# This function generates random numbers from a uniform distribution over the interval [0, 1).\n",
    "# It takes dimensions as input and returns an array of random numbers with the specified shape.\n",
    "\n",
    "# np.random.randn:\n",
    "# This function generates random numbers from a standard normal distribution (mean = 0, standard deviation = 1).\n",
    "# It also takes dimensions as input and returns an array of random numbers with the specified shape."
   ]
  },
  {
   "cell_type": "code",
   "execution_count": 49,
   "id": "817603c5-54e3-4bd4-a524-5c55d991a76b",
   "metadata": {},
   "outputs": [
    {
     "data": {
      "text/plain": [
       "array([[[ 1,  2,  3],\n",
       "        [ 4,  5,  6]],\n",
       "\n",
       "       [[ 7,  8,  9],\n",
       "        [10, 11, 12]]])"
      ]
     },
     "execution_count": 49,
     "metadata": {},
     "output_type": "execute_result"
    }
   ],
   "source": [
    "# Question 9\n",
    "arr = np.array([[1, 2, 3, 4],\n",
    "[5, 6, 7, 8],\n",
    "[9, 10, 11, 12]])\n",
    "\n",
    "# changing the dimension using reshape function \n",
    "arr.reshape(2,2,3)\n"
   ]
  },
  {
   "cell_type": "code",
   "execution_count": 52,
   "id": "5f9d91d2-9358-438f-94ac-5ad15f6ae4d7",
   "metadata": {},
   "outputs": [
    {
     "data": {
      "text/plain": [
       "array([[ 1,  5,  9],\n",
       "       [ 2,  6, 10],\n",
       "       [ 3,  7, 11],\n",
       "       [ 4,  8, 12]])"
      ]
     },
     "execution_count": 52,
     "metadata": {},
     "output_type": "execute_result"
    }
   ],
   "source": [
    "# Question 10 \n",
    "# returning the transpose of an array, .T used for transpose\n",
    "arr.T"
   ]
  },
  {
   "cell_type": "code",
   "execution_count": 61,
   "id": "cea9b9d9-af67-446e-a554-b875fd2f2b60",
   "metadata": {},
   "outputs": [
    {
     "data": {
      "text/plain": [
       "array([[  1,   4,   9,  16],\n",
       "       [ 25,  36,  49,  64],\n",
       "       [ 81, 100, 121, 144]])"
      ]
     },
     "execution_count": 61,
     "metadata": {},
     "output_type": "execute_result"
    }
   ],
   "source": [
    "# Question 11\n",
    "a = np.array([[1, 2, 3, 4], [5, 6, 7, 8],[9, 10, 11, 12]])\n",
    "b = np.array([[1, 2, 3, 4], [5, 6, 7, 8],[9, 10, 11, 12]])\n",
    "# i) index-wise multiplication \n",
    "a * b"
   ]
  },
  {
   "cell_type": "code",
   "execution_count": 62,
   "id": "3e110a65-fd8f-4007-8314-fb30d7e9f46e",
   "metadata": {},
   "outputs": [
    {
     "data": {
      "text/plain": [
       "array([[ 70,  80,  90],\n",
       "       [158, 184, 210],\n",
       "       [246, 288, 330]])"
      ]
     },
     "execution_count": 62,
     "metadata": {},
     "output_type": "execute_result"
    }
   ],
   "source": [
    "# ii) matrix multiplication \n",
    "# to multiply these two matrix we have to reshape 1 matrix\n",
    "sample = b.reshape(4,3)\n",
    "a @ sample"
   ]
  },
  {
   "cell_type": "code",
   "execution_count": 65,
   "id": "d6110ebc-8e5a-4cfe-936c-40d8feeaca19",
   "metadata": {},
   "outputs": [
    {
     "data": {
      "text/plain": [
       "array([[ 2,  4,  6,  8],\n",
       "       [10, 12, 14, 16],\n",
       "       [18, 20, 22, 24]])"
      ]
     },
     "execution_count": 65,
     "metadata": {},
     "output_type": "execute_result"
    }
   ],
   "source": [
    "# iii) addition of matrix\n",
    "a + b"
   ]
  },
  {
   "cell_type": "code",
   "execution_count": 66,
   "id": "3b2ddcf1-78e3-406a-82db-8d3128c642f8",
   "metadata": {},
   "outputs": [
    {
     "data": {
      "text/plain": [
       "array([[0, 0, 0, 0],\n",
       "       [0, 0, 0, 0],\n",
       "       [0, 0, 0, 0]])"
      ]
     },
     "execution_count": 66,
     "metadata": {},
     "output_type": "execute_result"
    }
   ],
   "source": [
    "# iv) subtraction \n",
    "a - b"
   ]
  },
  {
   "cell_type": "code",
   "execution_count": 67,
   "id": "e9ae05b9-caec-466e-9c4e-7121fb85cabb",
   "metadata": {},
   "outputs": [
    {
     "data": {
      "text/plain": [
       "array([[1., 1., 1., 1.],\n",
       "       [1., 1., 1., 1.],\n",
       "       [1., 1., 1., 1.]])"
      ]
     },
     "execution_count": 67,
     "metadata": {},
     "output_type": "execute_result"
    }
   ],
   "source": [
    "# v) divion \n",
    "a/b"
   ]
  },
  {
   "cell_type": "code",
   "execution_count": 68,
   "id": "43a2f7b9-3687-41f4-9458-e417c326e312",
   "metadata": {},
   "outputs": [],
   "source": [
    "# Question 12\n",
    "# In NumPy, you can use the byteswap() method to swap the byte order of an array. \n",
    "# This method swaps the byte order of the elements in the array, effectively changing the endianness.\n"
   ]
  },
  {
   "cell_type": "code",
   "execution_count": 69,
   "id": "95462c31-af4e-4d83-8164-67fb94395e6b",
   "metadata": {},
   "outputs": [],
   "source": [
    "# Question 13\n",
    "# The np.linalg.inv function in NumPy is used to compute the multiplicative inverse of a square matrix.\n",
    "# In other words, it calculates the inverse of a given matrix.\n",
    "\n",
    "# The significance of np.linalg.inv lies in various mathematical and computational applications."
   ]
  },
  {
   "cell_type": "code",
   "execution_count": 70,
   "id": "93195b11-eff7-444d-9d2d-7a58c714343d",
   "metadata": {},
   "outputs": [],
   "source": [
    "# Question 14\n",
    "\n",
    "# The np.reshape function in NumPy is used to change the dimension of an array without changing its data.\n",
    "# It allows you to rearrange the elements of an array into a new shape while maintaining the same total number of elements."
   ]
  },
  {
   "cell_type": "code",
   "execution_count": null,
   "id": "15d3629d-d280-4a9c-bfff-c7fb6cdaa1f6",
   "metadata": {},
   "outputs": [],
   "source": [
    "# Question 15\n",
    "# Broadcasting in NumPy is a powerful mechanism that allows arrays of different shapes to be combined in arithmetic operations.\n",
    "# NumPy performs broadcasting when it encounters arrays with different shapes during arithmetic operations,\n",
    "# effectively extending smaller arrays to match the shape of larger arrays, thus enabling element-wise operations."
   ]
  }
 ],
 "metadata": {
  "kernelspec": {
   "display_name": "Python 3 (ipykernel)",
   "language": "python",
   "name": "python3"
  },
  "language_info": {
   "codemirror_mode": {
    "name": "ipython",
    "version": 3
   },
   "file_extension": ".py",
   "mimetype": "text/x-python",
   "name": "python",
   "nbconvert_exporter": "python",
   "pygments_lexer": "ipython3",
   "version": "3.10.8"
  }
 },
 "nbformat": 4,
 "nbformat_minor": 5
}
